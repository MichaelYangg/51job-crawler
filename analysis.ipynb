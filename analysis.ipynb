{
 "cells": [
  {
   "cell_type": "code",
   "execution_count": 4,
   "metadata": {},
   "outputs": [],
   "source": [
    "import requests\n",
    "from typing import List\n",
    "from bs4 import BeautifulSoup\n",
    "import http.cookiejar as cookielib\n",
    "import pickle\n",
    "import re"
   ]
  },
  {
   "cell_type": "code",
   "execution_count": 5,
   "metadata": {},
   "outputs": [
    {
     "name": "stdout",
     "output_type": "stream",
     "text": [
      "[['软件开发', 'software development'], ['深度学习', 'deep learning'], ['计算机视觉', 'computer vision', 'cv', '机器视觉'], ['java'], ['python']]\n"
     ]
    }
   ],
   "source": [
    "with open('config/skills.pkl','rb') as f:\n",
    "    skills = pickle.load(f)\n",
    "print(skills[:5])"
   ]
  },
  {
   "cell_type": "code",
   "execution_count": 31,
   "metadata": {},
   "outputs": [
    {
     "data": {
      "text/plain": [
       "3"
      ]
     },
     "execution_count": 31,
     "metadata": {},
     "output_type": "execute_result"
    }
   ],
   "source": [
    "import numpy as np\n",
    "np.sum(job_skill)"
   ]
  },
  {
   "cell_type": "code",
   "execution_count": null,
   "metadata": {},
   "outputs": [],
   "source": [
    "for s in skill_all:\n",
    "    pattern = ''\n",
    "    for c in s:\n",
    "        if c in ['+','-','#']:\n",
    "            pattern = pattern + f'\\{c}'\n",
    "        else:\n",
    "            pattern = pattern + c\n",
    "    if s == 'c': res = re.findall(r'\\W'+pattern+'\\W',' '+jd.replace('c++','').replace('c#','')+' ')\n",
    "    else: res = re.findall(r'\\W'+pattern+'\\W',' '+jd+' ')\n",
    "    job_skill[skill_idx[skill_map[s]]] += len(res)\n",
    "job_skills.append(job_skill)\n",
    "\n",
    "if '年终奖' in jd: dummys.append([1,0,0,0,0,0])\n",
    "else: dummys.append([0,0,0,0,0,0])\n",
    "    "
   ]
  },
  {
   "cell_type": "code",
   "execution_count": 19,
   "metadata": {},
   "outputs": [],
   "source": [
    "JD = '1、负责信用卡产品的销售及推广；开发企业客户，外出陌生拜访；联盟门店、大型商超、加油站驻店销售；\\n2、根据营销计划,完成部门销售指标;\\n3、开拓新市场python,发展新客户,维护客户关系，做好客户转介绍;\\n4、严格把控风险；\\n5、考勤轻松,业绩说话:晚上不要求回公司打卡,考勤轻松更方便安排。\\n岗位要求：\\n1、大专以上学历，1年以上销售工作经验（优秀应届毕业生亦可）；\\n2、热情开朗，沟通表达能力强、强烈的责任感和团队合作意识；\\n3、有良好的社交能力和适应能力，能够承受一定的销售压力。\\n4、耐心细致,为客户提供优质的服务。\\n薪酬福利： \\n1. 可观的收入：底薪＋月度奖金＋长效激励＋车餐津贴 \\n2. 丰富的福利：缴纳社会保险＋公积金＋商业意外险＋人员在职体检+其它福利 \\n3. 完善的培训：专业的带薪入职培训＋系统的在职培训 \\n联系电话：郭主任 13238310909\\n联系地址：东莞市东城区东莞大道11号环球经贸中心3008-3012\\n职能类别：高级客户经理/客户经理'"
   ]
  }
 ],
 "metadata": {
  "kernelspec": {
   "display_name": "Python 3",
   "language": "python",
   "name": "python3"
  },
  "language_info": {
   "codemirror_mode": {
    "name": "ipython",
    "version": 3
   },
   "file_extension": ".py",
   "mimetype": "text/x-python",
   "name": "python",
   "nbconvert_exporter": "python",
   "pygments_lexer": "ipython3",
   "version": "3.7.1"
  }
 },
 "nbformat": 4,
 "nbformat_minor": 4
}
